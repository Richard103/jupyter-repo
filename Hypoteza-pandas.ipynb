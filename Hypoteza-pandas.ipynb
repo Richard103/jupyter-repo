{
 "cells": [
  {
   "cell_type": "code",
   "execution_count": 1,
   "metadata": {},
   "outputs": [],
   "source": [
    "import pandas as pd\n",
    "import datetime as dt\n",
    "pd.plotting.register_matplotlib_converters()\n",
    "import matplotlib.pyplot as plt\n",
    "%matplotlib inline\n",
    "import seaborn as sns\n",
    "from pprint import pprint\n",
    "import numpy as np"
   ]
  },
  {
   "cell_type": "code",
   "execution_count": 2,
   "metadata": {},
   "outputs": [],
   "source": [
    "file = \"P:/Hypoteza1.csv\"\n",
    "data = pd.read_csv(file, sep=';', nrows=100000,\n",
    "                   names=[\"Id\", \"ID_faktury\", \"PSC\", \"Country\", \"Nace_Kod\", \"Nace_name\", \"Datum_Vystaveni\", \"Datum_Splatnosti\", \"Datum_uhrady\", \"Rozdil\", \"Splatnost\", \"DateCreated\", \"DateFrom\", \"DateTo\", \"SubscriptionType\", \"IsTrial\", \"Parovani\"], \n",
    "                   index_col=\"ID_faktury\", parse_dates=[\"Datum_Vystaveni\", \"Datum_Splatnosti\", \"Datum_uhrady\", \"DateCreated\", \"DateFrom\", \"DateTo\"])"
   ]
  },
  {
   "cell_type": "code",
   "execution_count": 3,
   "metadata": {},
   "outputs": [],
   "source": [
    "cinnost = data[\"Nace_name\"]"
   ]
  },
  {
   "cell_type": "code",
   "execution_count": 4,
   "metadata": {},
   "outputs": [
    {
     "name": "stdout",
     "output_type": "stream",
     "text": [
      "ID_faktury\n",
      "15173407       Poradenství v oblasti informačních technologií\n",
      "18514739       Poradenství v oblasti informačních technologií\n",
      "15173414       Poradenství v oblasti informačních technologií\n",
      "15173415       Poradenství v oblasti informačních technologií\n",
      "15173412       Poradenství v oblasti informačních technologií\n",
      "                                  ...                        \n",
      "8932525                  Maloobchod prostřednictvím internetu\n",
      "8932538                  Maloobchod prostřednictvím internetu\n",
      "8930402     Obchod s automobily a jinými lehkými motorovým...\n",
      "8910977                             Silniční nákladní doprava\n",
      "8933461                                      Rozvod elektřiny\n",
      "Name: Nace_name, Length: 100000, dtype: object\n"
     ]
    }
   ],
   "source": [
    "print(cinnost)"
   ]
  },
  {
   "cell_type": "code",
   "execution_count": 6,
   "metadata": {},
   "outputs": [
    {
     "data": {
      "text/plain": [
       "pandas.core.series.Series"
      ]
     },
     "execution_count": 6,
     "metadata": {},
     "output_type": "execute_result"
    }
   ],
   "source": [
    "type(cinnost)"
   ]
  },
  {
   "cell_type": "code",
   "execution_count": 7,
   "metadata": {},
   "outputs": [
    {
     "data": {
      "text/plain": [
       "'Nace_name'"
      ]
     },
     "execution_count": 7,
     "metadata": {},
     "output_type": "execute_result"
    }
   ],
   "source": [
    "cinnost.name"
   ]
  },
  {
   "cell_type": "code",
   "execution_count": 8,
   "metadata": {},
   "outputs": [
    {
     "data": {
      "text/plain": [
       "Int64Index([15173407, 18514739, 15173414, 15173415, 15173412, 15173408,\n",
       "            15173399,  9370160,  9370170,  9370184,\n",
       "            ...\n",
       "             8932552,  8932735,  8933254,  8932475,  8932503,  8932525,\n",
       "             8932538,  8930402,  8910977,  8933461],\n",
       "           dtype='int64', name='ID_faktury', length=100000)"
      ]
     },
     "execution_count": 8,
     "metadata": {},
     "output_type": "execute_result"
    }
   ],
   "source": [
    "cinnost.index"
   ]
  },
  {
   "cell_type": "code",
   "execution_count": 9,
   "metadata": {},
   "outputs": [
    {
     "data": {
      "text/plain": [
       "dtype('O')"
      ]
     },
     "execution_count": 9,
     "metadata": {},
     "output_type": "execute_result"
    }
   ],
   "source": [
    "cinnost.dtype"
   ]
  },
  {
   "cell_type": "code",
   "execution_count": 17,
   "metadata": {},
   "outputs": [
    {
     "name": "stdout",
     "output_type": "stream",
     "text": [
      "                Id    PSC  Country  Nace_Kod  \\\n",
      "ID_faktury                                     \n",
      "15173407    260867  44001        2    620200   \n",
      "15173414    260867  44001        2    620200   \n",
      "15173408    260867  44001        2    620200   \n",
      "15173401    260867  44001        2    620200   \n",
      "9370213      30374  40755        2    620200   \n",
      "...            ...    ...      ...       ...   \n",
      "9026835     236584  25165        2    107000   \n",
      "9021091     276538  13000        2    731000   \n",
      "9020820     276538  13000        2    731000   \n",
      "9020954     276538  13000        2    731000   \n",
      "9020982     276538  13000        2    731000   \n",
      "\n",
      "                                                    Nace_name Datum_Vystaveni  \\\n",
      "ID_faktury                                                                      \n",
      "15173407       Poradenství v oblasti informačních technologií      2011-01-11   \n",
      "15173414       Poradenství v oblasti informačních technologií      2011-01-26   \n",
      "15173408       Poradenství v oblasti informačních technologií      2011-03-10   \n",
      "15173401       Poradenství v oblasti informačních technologií      2011-04-11   \n",
      "9370213        Poradenství v oblasti informačních technologií      2011-05-06   \n",
      "...                                                       ...             ...   \n",
      "9026835     Výroba pekařských, cukrářských a jiných moučný...      2017-08-01   \n",
      "9021091                                     Reklamní činnosti      2017-08-01   \n",
      "9020820                                     Reklamní činnosti      2017-08-01   \n",
      "9020954                                     Reklamní činnosti      2017-08-01   \n",
      "9020982                                     Reklamní činnosti      2017-08-01   \n",
      "\n",
      "           Datum_Splatnosti Datum_uhrady  Rozdil  Splatnost  \\\n",
      "ID_faktury                                                    \n",
      "15173407         2011-01-15   2011-01-15       0          4   \n",
      "15173414         2011-02-02   2011-02-02       0          7   \n",
      "15173408         2011-03-15   2011-03-15       0          5   \n",
      "15173401         2011-04-15   2011-04-15       0          4   \n",
      "9370213          2011-05-15   2011-05-06      -9          9   \n",
      "...                     ...          ...     ...        ...   \n",
      "9026835          2017-08-06   2017-08-01      -5          5   \n",
      "9021091          2017-08-06   2017-09-13      38          5   \n",
      "9020820          2017-08-06   2017-08-01      -5          5   \n",
      "9020954          2017-08-06   2017-08-10       4          5   \n",
      "9020982          2017-08-06   2017-08-11       5          5   \n",
      "\n",
      "                       DateCreated                DateFrom  \\\n",
      "ID_faktury                                                   \n",
      "15173407   2019-03-06 17:57:29.430 2019-03-04 11:18:46.410   \n",
      "15173414   2019-03-06 17:57:41.497 2019-03-04 11:18:46.410   \n",
      "15173408   2019-03-06 17:57:31.480 2019-03-04 11:18:46.410   \n",
      "15173401   2019-03-06 17:57:21.683 2019-03-04 11:18:46.410   \n",
      "9370213    2017-09-08 18:18:05.363 2017-08-01 00:00:00.000   \n",
      "...                            ...                     ...   \n",
      "9026835    2017-08-01 17:15:35.133 2017-05-31 00:00:01.000   \n",
      "9021091    2017-08-01 11:02:53.683 2017-05-31 00:00:01.000   \n",
      "9020820    2017-08-01 10:46:15.970 2017-05-31 00:00:01.000   \n",
      "9020954    2017-08-01 10:54:06.537 2017-05-31 00:00:01.000   \n",
      "9020982    2017-08-01 10:55:30.233 2017-05-31 00:00:01.000   \n",
      "\n",
      "                             DateTo  SubscriptionType  IsTrial  Parovani  \n",
      "ID_faktury                                                                \n",
      "15173407    2019-04-04 23:59:59.000                 2        0         1  \n",
      "15173414    2019-04-04 23:59:59.000                 2        0         1  \n",
      "15173408    2019-04-04 23:59:59.000                 2        0         1  \n",
      "15173401    2019-04-04 23:59:59.000                 2        0         1  \n",
      "9370213     2018-08-01 23:59:59.000                 1        0         0  \n",
      "...                             ...               ...      ...       ...  \n",
      "9026835     2017-08-02 23:59:59.000                 3        1         0  \n",
      "9021091     2017-08-02 23:59:59.000                 3        1         0  \n",
      "9020820     2017-08-02 23:59:59.000                 3        1         0  \n",
      "9020954     2017-08-02 23:59:59.000                 3        1         0  \n",
      "9020982     2017-08-02 23:59:59.000                 3        1         0  \n",
      "\n",
      "[21198 rows x 16 columns]\n"
     ]
    }
   ],
   "source": [
    "print(data[(data[\"Splatnost\"]>0) & (data[\"Splatnost\"]<10)])"
   ]
  },
  {
   "cell_type": "code",
   "execution_count": 18,
   "metadata": {},
   "outputs": [],
   "source": [
    "hypo = data[[\"Splatnost\", \"Rozdil\"]]"
   ]
  },
  {
   "cell_type": "code",
   "execution_count": 19,
   "metadata": {},
   "outputs": [
    {
     "name": "stdout",
     "output_type": "stream",
     "text": [
      "            Splatnost  Rozdil\n",
      "ID_faktury                   \n",
      "15173407            4       0\n",
      "18514739           14       0\n",
      "15173414            7       0\n",
      "15173415           14       0\n",
      "15173412           14       0\n",
      "...               ...     ...\n",
      "8932525            14      -2\n",
      "8932538            14      -6\n",
      "8930402            14     -14\n",
      "8910977            30      32\n",
      "8933461            14     -14\n",
      "\n",
      "[100000 rows x 2 columns]\n"
     ]
    }
   ],
   "source": [
    "print(hypo)"
   ]
  },
  {
   "cell_type": "code",
   "execution_count": 31,
   "metadata": {},
   "outputs": [
    {
     "name": "stdout",
     "output_type": "stream",
     "text": [
      "ID_faktury\n",
      "9370160     21\n",
      "9370170     21\n",
      "9370184     21\n",
      "15173401     0\n",
      "9370202     13\n",
      "Name: Rozdil, dtype: int64\n"
     ]
    }
   ],
   "source": [
    "print(hypo.iloc[7:12, 1])"
   ]
  },
  {
   "cell_type": "code",
   "execution_count": null,
   "metadata": {},
   "outputs": [],
   "source": []
  }
 ],
 "metadata": {
  "kernelspec": {
   "display_name": "Python 3",
   "language": "python",
   "name": "python3"
  },
  "language_info": {
   "codemirror_mode": {
    "name": "ipython",
    "version": 3
   },
   "file_extension": ".py",
   "mimetype": "text/x-python",
   "name": "python",
   "nbconvert_exporter": "python",
   "pygments_lexer": "ipython3",
   "version": "3.7.4"
  },
  "toc": {
   "base_numbering": 1,
   "nav_menu": {},
   "number_sections": true,
   "sideBar": true,
   "skip_h1_title": false,
   "title_cell": "Table of Contents",
   "title_sidebar": "Contents",
   "toc_cell": false,
   "toc_position": {},
   "toc_section_display": true,
   "toc_window_display": false
  }
 },
 "nbformat": 4,
 "nbformat_minor": 2
}
