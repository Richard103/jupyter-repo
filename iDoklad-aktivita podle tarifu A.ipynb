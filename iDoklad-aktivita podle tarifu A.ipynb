{
 "cells": [
  {
   "cell_type": "code",
   "execution_count": 1,
   "metadata": {},
   "outputs": [],
   "source": [
    "import pandas as pd\n",
    "import numpy as np"
   ]
  },
  {
   "cell_type": "code",
   "execution_count": 27,
   "metadata": {},
   "outputs": [],
   "source": [
    "data = pd.read_csv(\"P:/Hypotéza 2.1b.csv\", sep=\";\", parse_dates=[\"DateFrom\", \"DateTo\", \"Vytvoreni_agendy\"])"
   ]
  },
  {
   "cell_type": "code",
   "execution_count": 12,
   "metadata": {
    "scrolled": true
   },
   "outputs": [
    {
     "name": "stdout",
     "output_type": "stream",
     "text": [
      "(494522, 16)\n",
      "   CompletId  AgendaId  SubscriptionType  IsTrial                 DateFrom  \\\n",
      "0          1        19                 3        1  2016-05-31 00:00:00.000   \n",
      "1          2        22                 3        1  2016-05-31 00:00:00.000   \n",
      "2          3        63                 3        1  2016-05-31 00:00:00.000   \n",
      "3          4       221                 3        1  2016-05-31 00:00:00.000   \n",
      "4          5       242                 3        1  2016-05-31 00:00:00.000   \n",
      "\n",
      "                    DateTo  Pocet_vydanych_faktur  Pocet_zalohovych_faktur  \\\n",
      "0  2016-08-31 23:59:59.000                    NaN                      NaN   \n",
      "1  2016-08-31 23:59:59.000                    NaN                      NaN   \n",
      "2  2016-08-31 23:59:59.000                    3.0                      1.0   \n",
      "3  2016-08-31 23:59:59.000                    NaN                      NaN   \n",
      "4  2016-08-31 23:59:59.000                    NaN                      NaN   \n",
      "\n",
      "   Pocet_dobropisu  Pocet_prijatych_faktur  Pocet_kontaktu  Pocet_prodejek  \\\n",
      "0              NaN                     NaN             NaN             NaN   \n",
      "1              NaN                     NaN             NaN             NaN   \n",
      "2              NaN                     1.0             NaN             NaN   \n",
      "3              NaN                     NaN             NaN             NaN   \n",
      "4              NaN                     NaN             NaN             NaN   \n",
      "\n",
      "   Pocet_pravidelnych_faktur  Pocet_cenikovych_polozek  CurrencyId  \\\n",
      "0                        NaN                       NaN           2   \n",
      "1                        NaN                       NaN           2   \n",
      "2                        NaN                       1.0           2   \n",
      "3                        NaN                       NaN           2   \n",
      "4                        NaN                       NaN           2   \n",
      "\n",
      "          Vytvoreni_agendy  \n",
      "0  2011-02-16 06:49:02.340  \n",
      "1  2011-02-17 10:40:56.350  \n",
      "2  2011-03-11 15:03:10.733  \n",
      "3  2011-04-13 00:00:00.000  \n",
      "4  2011-04-14 00:00:00.000  \n"
     ]
    }
   ],
   "source": [
    "print(data.shape)\n",
    "print(data.head())"
   ]
  },
  {
   "cell_type": "code",
   "execution_count": 28,
   "metadata": {},
   "outputs": [],
   "source": [
    "tarif = data[data[\"IsTrial\"]==0]"
   ]
  },
  {
   "cell_type": "code",
   "execution_count": 29,
   "metadata": {},
   "outputs": [
    {
     "name": "stdout",
     "output_type": "stream",
     "text": [
      "       CompletId  AgendaId  SubscriptionType  IsTrial            DateFrom  \\\n",
      "7623        7631     34399                 3        0 2017-05-31 00:00:01   \n",
      "18305      18330    179664                 3        0 2016-05-31 00:00:00   \n",
      "42934      42992     29995                 3        0 2017-05-31 00:00:01   \n",
      "56789      56867     54875                 3        0 2017-05-31 00:00:01   \n",
      "81856      81987    118414                 3        0 2016-05-31 00:00:00   \n",
      "\n",
      "                        DateTo  Pocet_vydanych_faktur  \\\n",
      "7623   2030-12-31 23:59:59.000                   80.0   \n",
      "18305  2020-12-31 23:59:59.000                  289.0   \n",
      "42934  2020-07-17 23:59:59.000                   92.0   \n",
      "56789  2030-12-31 23:59:59.000                  101.0   \n",
      "81856  9999-12-31 23:59:59.000                 1306.0   \n",
      "\n",
      "       Pocet_zalohovych_faktur  Pocet_dobropisu  Pocet_prijatych_faktur  \\\n",
      "7623                      30.0              6.0                     8.0   \n",
      "18305                     69.0             33.0                    45.0   \n",
      "42934                      4.0              3.0                     1.0   \n",
      "56789                      4.0              4.0                     6.0   \n",
      "81856                    121.0             38.0                    75.0   \n",
      "\n",
      "       Pocet_kontaktu  Pocet_prodejek  Pocet_pravidelnych_faktur  \\\n",
      "7623             11.0            14.0                        2.0   \n",
      "18305           279.0             1.0                        1.0   \n",
      "42934             NaN             2.0                        1.0   \n",
      "56789            36.0            10.0                        NaN   \n",
      "81856           201.0           173.0                        NaN   \n",
      "\n",
      "       Pocet_cenikovych_polozek  CurrencyId        Vytvoreni_agendy  \n",
      "7623                        4.0           1 2013-10-16 00:00:00.000  \n",
      "18305                     159.0           2 2016-02-08 15:20:40.357  \n",
      "42934                       5.0           1 2013-07-17 00:00:00.000  \n",
      "56789                       NaN           1 2014-05-12 00:00:00.000  \n",
      "81856                    2170.0           1 2015-09-14 06:13:50.173  \n"
     ]
    }
   ],
   "source": [
    "print(tarif.head())"
   ]
  },
  {
   "cell_type": "code",
   "execution_count": 30,
   "metadata": {},
   "outputs": [
    {
     "name": "stdout",
     "output_type": "stream",
     "text": [
      "<class 'pandas.core.frame.DataFrame'>\n",
      "Int64Index: 236229 entries, 7623 to 494520\n",
      "Data columns (total 16 columns):\n",
      " #   Column                     Non-Null Count   Dtype         \n",
      "---  ------                     --------------   -----         \n",
      " 0   CompletId                  236229 non-null  int64         \n",
      " 1   AgendaId                   236229 non-null  int64         \n",
      " 2   SubscriptionType           236229 non-null  int64         \n",
      " 3   IsTrial                    236229 non-null  int64         \n",
      " 4   DateFrom                   236229 non-null  datetime64[ns]\n",
      " 5   DateTo                     236229 non-null  object        \n",
      " 6   Pocet_vydanych_faktur      200804 non-null  float64       \n",
      " 7   Pocet_zalohovych_faktur    27613 non-null   float64       \n",
      " 8   Pocet_dobropisu            15590 non-null   float64       \n",
      " 9   Pocet_prijatych_faktur     20529 non-null   float64       \n",
      " 10  Pocet_kontaktu             149351 non-null  float64       \n",
      " 11  Pocet_prodejek             5396 non-null    float64       \n",
      " 12  Pocet_pravidelnych_faktur  2646 non-null    float64       \n",
      " 13  Pocet_cenikovych_polozek   12123 non-null   float64       \n",
      " 14  CurrencyId                 236229 non-null  int64         \n",
      " 15  Vytvoreni_agendy           236229 non-null  datetime64[ns]\n",
      "dtypes: datetime64[ns](2), float64(8), int64(5), object(1)\n",
      "memory usage: 30.6+ MB\n",
      "None\n"
     ]
    }
   ],
   "source": [
    "print(tarif.info())"
   ]
  },
  {
   "cell_type": "code",
   "execution_count": 13,
   "metadata": {},
   "outputs": [],
   "source": [
    "data.fillna(0, inplace=True)"
   ]
  },
  {
   "cell_type": "code",
   "execution_count": 21,
   "metadata": {},
   "outputs": [],
   "source": [
    "table = pd.pivot_table(data, index=\"SubscriptionType\", values=[\"Pocet_vydanych_faktur\", \"Pocet_zalohovych_faktur\"], aggfunc=np.mean)"
   ]
  },
  {
   "cell_type": "code",
   "execution_count": 22,
   "metadata": {},
   "outputs": [
    {
     "name": "stdout",
     "output_type": "stream",
     "text": [
      "                  Pocet_vydanych_faktur  Pocet_zalohovych_faktur\n",
      "SubscriptionType                                                \n",
      "0                             14.809367                 0.229997\n",
      "1                             34.929519                 1.399352\n",
      "2                             83.885866                 3.937777\n",
      "3                              7.282791                 0.306547\n"
     ]
    }
   ],
   "source": [
    "print(table)"
   ]
  },
  {
   "cell_type": "code",
   "execution_count": null,
   "metadata": {},
   "outputs": [],
   "source": []
  }
 ],
 "metadata": {
  "kernelspec": {
   "display_name": "Python 3",
   "language": "python",
   "name": "python3"
  },
  "language_info": {
   "codemirror_mode": {
    "name": "ipython",
    "version": 3
   },
   "file_extension": ".py",
   "mimetype": "text/x-python",
   "name": "python",
   "nbconvert_exporter": "python",
   "pygments_lexer": "ipython3",
   "version": "3.7.4"
  },
  "toc": {
   "base_numbering": 1,
   "nav_menu": {},
   "number_sections": true,
   "sideBar": true,
   "skip_h1_title": false,
   "title_cell": "Table of Contents",
   "title_sidebar": "Contents",
   "toc_cell": false,
   "toc_position": {},
   "toc_section_display": true,
   "toc_window_display": false
  }
 },
 "nbformat": 4,
 "nbformat_minor": 4
}
