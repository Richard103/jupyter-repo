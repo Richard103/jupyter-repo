{
 "cells": [
  {
   "cell_type": "code",
   "execution_count": 1,
   "metadata": {},
   "outputs": [],
   "source": [
    "import pandas as pd\n",
    "import numpy as np\n",
    "pd.plotting.register_matplotlib_converters()\n",
    "import matplotlib.pyplot as plt\n",
    "%matplotlib inline\n",
    "import datetime as dt"
   ]
  },
  {
   "cell_type": "code",
   "execution_count": 2,
   "metadata": {},
   "outputs": [],
   "source": [
    "data = pd.read_csv(\"P:/Hypoteza-2-1b_cleaned.csv\", parse_dates=[\"DateFrom\", \"DateTo\", \"Vytvoreni_agendy\"])"
   ]
  },
  {
   "cell_type": "code",
   "execution_count": 3,
   "metadata": {},
   "outputs": [],
   "source": [
    "tarif = data[data[\"IsTrial\"]==0]"
   ]
  },
  {
   "cell_type": "code",
   "execution_count": 4,
   "metadata": {},
   "outputs": [
    {
     "name": "stdout",
     "output_type": "stream",
     "text": [
      "<class 'pandas.core.frame.DataFrame'>\n",
      "Int64Index: 236229 entries, 2 to 494521\n",
      "Data columns (total 16 columns):\n",
      "CompletId                    236229 non-null int64\n",
      "AgendaId                     236229 non-null int64\n",
      "SubscriptionType             236229 non-null int64\n",
      "IsTrial                      236229 non-null int64\n",
      "DateFrom                     236229 non-null datetime64[ns]\n",
      "DateTo                       236229 non-null datetime64[ns]\n",
      "Pocet_vydanych_faktur        236229 non-null float64\n",
      "Pocet_zalohovych_faktur      236229 non-null float64\n",
      "Pocet_dobropisu              236229 non-null float64\n",
      "Pocet_prijatych_faktur       236229 non-null float64\n",
      "Pocet_kontaktu               236229 non-null float64\n",
      "Pocet_prodejek               236229 non-null float64\n",
      "Pocet_pravidelnych_faktur    236229 non-null float64\n",
      "Pocet_cenikovych_polozek     236229 non-null float64\n",
      "CurrencyId                   236229 non-null int64\n",
      "Vytvoreni_agendy             236229 non-null datetime64[ns]\n",
      "dtypes: datetime64[ns](3), float64(8), int64(5)\n",
      "memory usage: 30.6 MB\n",
      "None\n"
     ]
    },
    {
     "name": "stderr",
     "output_type": "stream",
     "text": [
      "C:\\Users\\Root\\Anaconda3\\lib\\site-packages\\pandas\\core\\frame.py:4244: SettingWithCopyWarning: \n",
      "A value is trying to be set on a copy of a slice from a DataFrame\n",
      "\n",
      "See the caveats in the documentation: http://pandas.pydata.org/pandas-docs/stable/user_guide/indexing.html#returning-a-view-versus-a-copy\n",
      "  **kwargs\n"
     ]
    }
   ],
   "source": [
    "tarif.fillna(0, inplace=True)\n",
    "print(tarif.info())"
   ]
  },
  {
   "cell_type": "code",
   "execution_count": 5,
   "metadata": {
    "scrolled": true
   },
   "outputs": [
    {
     "name": "stdout",
     "output_type": "stream",
     "text": [
      "2020-03-31 23:59:59\n"
     ]
    }
   ],
   "source": [
    "print(tarif[\"DateTo\"].max())"
   ]
  },
  {
   "cell_type": "code",
   "execution_count": 6,
   "metadata": {},
   "outputs": [
    {
     "name": "stdout",
     "output_type": "stream",
     "text": [
      "2     0 days 00:01:58.433000\n",
      "3     0 days 00:04:32.550000\n",
      "64    0 days 00:12:09.283000\n",
      "108   0 days 01:53:52.427000\n",
      "236   2 days 00:34:31.277000\n",
      "Name: duration, dtype: timedelta64[ns]\n"
     ]
    },
    {
     "name": "stderr",
     "output_type": "stream",
     "text": [
      "C:\\Users\\Root\\Anaconda3\\lib\\site-packages\\ipykernel_launcher.py:1: SettingWithCopyWarning: \n",
      "A value is trying to be set on a copy of a slice from a DataFrame.\n",
      "Try using .loc[row_indexer,col_indexer] = value instead\n",
      "\n",
      "See the caveats in the documentation: http://pandas.pydata.org/pandas-docs/stable/user_guide/indexing.html#returning-a-view-versus-a-copy\n",
      "  \"\"\"Entry point for launching an IPython kernel.\n"
     ]
    }
   ],
   "source": [
    "tarif[\"duration\"] = tarif.loc[:,\"DateTo\"] - tarif.loc[:,\"DateFrom\"]\n",
    "print(tarif[\"duration\"].head())"
   ]
  },
  {
   "cell_type": "markdown",
   "metadata": {},
   "source": [
    "# převod timedelta na dny"
   ]
  },
  {
   "cell_type": "code",
   "execution_count": 7,
   "metadata": {
    "scrolled": true
   },
   "outputs": [
    {
     "name": "stderr",
     "output_type": "stream",
     "text": [
      "C:\\Users\\Root\\Anaconda3\\lib\\site-packages\\ipykernel_launcher.py:1: SettingWithCopyWarning: \n",
      "A value is trying to be set on a copy of a slice from a DataFrame.\n",
      "Try using .loc[row_indexer,col_indexer] = value instead\n",
      "\n",
      "See the caveats in the documentation: http://pandas.pydata.org/pandas-docs/stable/user_guide/indexing.html#returning-a-view-versus-a-copy\n",
      "  \"\"\"Entry point for launching an IPython kernel.\n"
     ]
    }
   ],
   "source": [
    "tarif[\"num_days\"] = tarif.loc[:,\"duration\"] / dt.timedelta(days=1)"
   ]
  },
  {
   "cell_type": "code",
   "execution_count": 8,
   "metadata": {},
   "outputs": [
    {
     "name": "stdout",
     "output_type": "stream",
     "text": [
      "0.0\n"
     ]
    }
   ],
   "source": [
    "print(tarif.loc[236,\"Pocet_kontaktu\"] / tarif.loc[236, \"num_days\"] )"
   ]
  },
  {
   "cell_type": "code",
   "execution_count": 9,
   "metadata": {},
   "outputs": [
    {
     "name": "stderr",
     "output_type": "stream",
     "text": [
      "C:\\Users\\Root\\Anaconda3\\lib\\site-packages\\ipykernel_launcher.py:1: SettingWithCopyWarning: \n",
      "A value is trying to be set on a copy of a slice from a DataFrame.\n",
      "Try using .loc[row_indexer,col_indexer] = value instead\n",
      "\n",
      "See the caveats in the documentation: http://pandas.pydata.org/pandas-docs/stable/user_guide/indexing.html#returning-a-view-versus-a-copy\n",
      "  \"\"\"Entry point for launching an IPython kernel.\n",
      "C:\\Users\\Root\\Anaconda3\\lib\\site-packages\\ipykernel_launcher.py:2: SettingWithCopyWarning: \n",
      "A value is trying to be set on a copy of a slice from a DataFrame.\n",
      "Try using .loc[row_indexer,col_indexer] = value instead\n",
      "\n",
      "See the caveats in the documentation: http://pandas.pydata.org/pandas-docs/stable/user_guide/indexing.html#returning-a-view-versus-a-copy\n",
      "  \n",
      "C:\\Users\\Root\\Anaconda3\\lib\\site-packages\\ipykernel_launcher.py:3: SettingWithCopyWarning: \n",
      "A value is trying to be set on a copy of a slice from a DataFrame.\n",
      "Try using .loc[row_indexer,col_indexer] = value instead\n",
      "\n",
      "See the caveats in the documentation: http://pandas.pydata.org/pandas-docs/stable/user_guide/indexing.html#returning-a-view-versus-a-copy\n",
      "  This is separate from the ipykernel package so we can avoid doing imports until\n",
      "C:\\Users\\Root\\Anaconda3\\lib\\site-packages\\ipykernel_launcher.py:4: SettingWithCopyWarning: \n",
      "A value is trying to be set on a copy of a slice from a DataFrame.\n",
      "Try using .loc[row_indexer,col_indexer] = value instead\n",
      "\n",
      "See the caveats in the documentation: http://pandas.pydata.org/pandas-docs/stable/user_guide/indexing.html#returning-a-view-versus-a-copy\n",
      "  after removing the cwd from sys.path.\n",
      "C:\\Users\\Root\\Anaconda3\\lib\\site-packages\\ipykernel_launcher.py:5: SettingWithCopyWarning: \n",
      "A value is trying to be set on a copy of a slice from a DataFrame.\n",
      "Try using .loc[row_indexer,col_indexer] = value instead\n",
      "\n",
      "See the caveats in the documentation: http://pandas.pydata.org/pandas-docs/stable/user_guide/indexing.html#returning-a-view-versus-a-copy\n",
      "  \"\"\"\n",
      "C:\\Users\\Root\\Anaconda3\\lib\\site-packages\\ipykernel_launcher.py:6: SettingWithCopyWarning: \n",
      "A value is trying to be set on a copy of a slice from a DataFrame.\n",
      "Try using .loc[row_indexer,col_indexer] = value instead\n",
      "\n",
      "See the caveats in the documentation: http://pandas.pydata.org/pandas-docs/stable/user_guide/indexing.html#returning-a-view-versus-a-copy\n",
      "  \n",
      "C:\\Users\\Root\\Anaconda3\\lib\\site-packages\\ipykernel_launcher.py:7: SettingWithCopyWarning: \n",
      "A value is trying to be set on a copy of a slice from a DataFrame.\n",
      "Try using .loc[row_indexer,col_indexer] = value instead\n",
      "\n",
      "See the caveats in the documentation: http://pandas.pydata.org/pandas-docs/stable/user_guide/indexing.html#returning-a-view-versus-a-copy\n",
      "  import sys\n",
      "C:\\Users\\Root\\Anaconda3\\lib\\site-packages\\ipykernel_launcher.py:8: SettingWithCopyWarning: \n",
      "A value is trying to be set on a copy of a slice from a DataFrame.\n",
      "Try using .loc[row_indexer,col_indexer] = value instead\n",
      "\n",
      "See the caveats in the documentation: http://pandas.pydata.org/pandas-docs/stable/user_guide/indexing.html#returning-a-view-versus-a-copy\n",
      "  \n"
     ]
    }
   ],
   "source": [
    "tarif[\"Pocet_vydanych_faktur_daily\"] = tarif.loc[:,\"Pocet_vydanych_faktur\"] / tarif.loc[:, \"num_days\"]\n",
    "tarif[\"Pocet_zalohovych_faktur_daily\"] = tarif.loc[:,\"Pocet_zalohovych_faktur\"] / tarif.loc[:, \"num_days\"]\n",
    "tarif[\"Pocet_dobropisu_daily\"] = tarif.loc[:,\"Pocet_dobropisu\"] / tarif.loc[:, \"num_days\"]\n",
    "tarif[\"Pocet_prijatych_faktur_daily\"] = tarif.loc[:,\"Pocet_prijatych_faktur\"] / tarif.loc[:, \"num_days\"]\n",
    "tarif[\"Pocet_kontaktu_daily\"] = tarif.loc[:,\"Pocet_kontaktu\"] / tarif.loc[:, \"num_days\"]\n",
    "tarif[\"Pocet_prodejek_daily\"] = tarif.loc[:,\"Pocet_prodejek\"] / tarif.loc[:, \"num_days\"]\n",
    "tarif[\"Pocet_pravidelnych_faktur_daily\"] = tarif.loc[:,\"Pocet_pravidelnych_faktur\"] / tarif.loc[:, \"num_days\"]\n",
    "tarif[\"Pocet_cenikovych_polozek_daily\"] = tarif.loc[:,\"Pocet_cenikovych_polozek\"] / tarif.loc[:, \"num_days\"]"
   ]
  },
  {
   "cell_type": "code",
   "execution_count": 10,
   "metadata": {},
   "outputs": [
    {
     "name": "stdout",
     "output_type": "stream",
     "text": [
      "     CompletId  AgendaId  SubscriptionType  IsTrial                DateFrom  \\\n",
      "2       111559    149785                 0        0 2016-06-23 18:15:43.747   \n",
      "3       111560    149785                 2        0 2016-06-23 18:17:43.180   \n",
      "64      114351    239593                 0        0 2016-07-03 09:39:06.780   \n",
      "108     114546    239516                 0        0 2016-07-06 06:44:02.780   \n",
      "236     114997    240332                 0        0 2016-07-11 09:52:02.423   \n",
      "\n",
      "                     DateTo  Pocet_vydanych_faktur  Pocet_zalohovych_faktur  \\\n",
      "2   2016-06-23 18:17:42.180                    0.0                      0.0   \n",
      "3   2016-06-23 18:22:15.730                    0.0                      0.0   \n",
      "64  2016-07-03 09:51:16.063                    0.0                      0.0   \n",
      "108 2016-07-06 08:37:55.207                    0.0                      0.0   \n",
      "236 2016-07-13 10:26:33.700                    0.0                      0.0   \n",
      "\n",
      "     Pocet_dobropisu  Pocet_prijatych_faktur  ...               duration  \\\n",
      "2                0.0                     0.0  ... 0 days 00:01:58.433000   \n",
      "3                0.0                     0.0  ... 0 days 00:04:32.550000   \n",
      "64               0.0                     0.0  ... 0 days 00:12:09.283000   \n",
      "108              0.0                     0.0  ... 0 days 01:53:52.427000   \n",
      "236              0.0                     0.0  ... 2 days 00:34:31.277000   \n",
      "\n",
      "     num_days  Pocet_vydanych_faktur_daily  Pocet_zalohovych_faktur_daily  \\\n",
      "2    0.001371                          0.0                            0.0   \n",
      "3    0.003155                          0.0                            0.0   \n",
      "64   0.008441                          0.0                            0.0   \n",
      "108  0.079079                          0.0                            0.0   \n",
      "236  2.023973                          0.0                            0.0   \n",
      "\n",
      "     Pocet_dobropisu_daily Pocet_prijatych_faktur_daily Pocet_kontaktu_daily  \\\n",
      "2                      0.0                          0.0                  0.0   \n",
      "3                      0.0                          0.0                  0.0   \n",
      "64                     0.0                          0.0                  0.0   \n",
      "108                    0.0                          0.0                  0.0   \n",
      "236                    0.0                          0.0                  0.0   \n",
      "\n",
      "     Pocet_prodejek_daily  Pocet_pravidelnych_faktur_daily  \\\n",
      "2                     0.0                              0.0   \n",
      "3                     0.0                              0.0   \n",
      "64                    0.0                              0.0   \n",
      "108                   0.0                              0.0   \n",
      "236                   0.0                              0.0   \n",
      "\n",
      "     Pocet_cenikovych_polozek_daily  \n",
      "2                          0.000000  \n",
      "3                        317.006054  \n",
      "64                         0.000000  \n",
      "108                        0.000000  \n",
      "236                        0.000000  \n",
      "\n",
      "[5 rows x 26 columns]\n"
     ]
    }
   ],
   "source": [
    "print(tarif.head())"
   ]
  },
  {
   "cell_type": "code",
   "execution_count": 11,
   "metadata": {},
   "outputs": [
    {
     "name": "stdout",
     "output_type": "stream",
     "text": [
      "0.2267701946834804\n"
     ]
    }
   ],
   "source": [
    "print(tarif[\"Pocet_kontaktu_daily\"].mean())"
   ]
  },
  {
   "cell_type": "code",
   "execution_count": 12,
   "metadata": {},
   "outputs": [
    {
     "name": "stdout",
     "output_type": "stream",
     "text": [
      "                  Pocet_cenikovych_polozek_daily  Pocet_dobropisu_daily  \\\n",
      "SubscriptionType                                                          \n",
      "0                                       0.000613               0.000749   \n",
      "1                                       0.076938               0.002691   \n",
      "2                                       0.121957               0.007701   \n",
      "3                                       0.354958               0.063063   \n",
      "\n",
      "                  Pocet_kontaktu_daily  Pocet_pravidelnych_faktur_daily  \\\n",
      "SubscriptionType                                                          \n",
      "0                             0.172289                         0.000052   \n",
      "1                             0.206284                         0.000681   \n",
      "2                             0.293372                         0.001009   \n",
      "3                             1.709809                         0.004661   \n",
      "\n",
      "                  Pocet_prijatych_faktur_daily  Pocet_prodejek_daily  \\\n",
      "SubscriptionType                                                       \n",
      "0                                     0.028052              0.000000   \n",
      "1                                     0.072107              0.002241   \n",
      "2                                     0.120514              0.212520   \n",
      "3                                     0.175630              0.228195   \n",
      "\n",
      "                  Pocet_vydanych_faktur_daily  Pocet_zalohovych_faktur_daily  \n",
      "SubscriptionType                                                              \n",
      "0                                    0.415902                       0.007610  \n",
      "1                                    0.384243                       0.018839  \n",
      "2                                    0.592149                       0.032342  \n",
      "3                                    2.954343                       0.086113  \n"
     ]
    }
   ],
   "source": [
    "table = pd.pivot_table(tarif, index=\"SubscriptionType\", values=[\"Pocet_vydanych_faktur_daily\", \"Pocet_kontaktu_daily\", \n",
    "                                                                \"Pocet_zalohovych_faktur_daily\", \"Pocet_dobropisu_daily\",\n",
    "                                                               \"Pocet_prijatych_faktur_daily\", \"Pocet_prodejek_daily\",\n",
    "                                                               \"Pocet_pravidelnych_faktur_daily\", \"Pocet_cenikovych_polozek_daily\"])\n",
    "print(table)"
   ]
  },
  {
   "cell_type": "code",
   "execution_count": 21,
   "metadata": {},
   "outputs": [],
   "source": [
    "tarify = [\"Zdarma\", \"Základní\", \"Oblíbený\", \"Prémiový\"]"
   ]
  },
  {
   "cell_type": "code",
   "execution_count": 25,
   "metadata": {},
   "outputs": [
    {
     "data": {
      "image/png": "[encoded data removed]",
      "text/plain": [
       "<Figure size 432x288 with 1 Axes>"
      ]
     },
     "metadata": {
      "needs_background": "light"
     },
     "output_type": "display_data"
    }
   ],
   "source": [
    "fig = plt.figure()\n",
    "ax=fig.add_axes([0,0,1,1])\n",
    "ax.bar(tarify, table.Pocet_cenikovych_polozek_daily)\n",
    "plt.title(\"Počet ceníkových položek denně\")\n",
    "plt.show()"
   ]
  },
  {
   "cell_type": "code",
   "execution_count": 26,
   "metadata": {},
   "outputs": [
    {
     "data": {
      "image/png": "[encoded data removed]",
      "text/plain": [
       "<Figure size 432x288 with 1 Axes>"
      ]
     },
     "metadata": {
      "needs_background": "light"
     },
     "output_type": "display_data"
    }
   ],
   "source": [
    "fig = plt.figure()\n",
    "ax=fig.add_axes([0,0,1,1])\n",
    "ax.bar(tarify, table.Pocet_dobropisu_daily)\n",
    "plt.title(\"Počet dobropisů denně\")\n",
    "plt.show()"
   ]
  },
  {
   "cell_type": "code",
   "execution_count": 27,
   "metadata": {},
   "outputs": [
    {
     "data": {
      "image/png": "[encoded data removed]",
      "text/plain": [
       "<Figure size 432x288 with 1 Axes>"
      ]
     },
     "metadata": {
      "needs_background": "light"
     },
     "output_type": "display_data"
    }
   ],
   "source": [
    "fig = plt.figure()\n",
    "ax=fig.add_axes([0,0,1,1])\n",
    "ax.bar(tarify, table.Pocet_kontaktu_daily)\n",
    "plt.title(\"Počet kontaktů denně\")\n",
    "plt.show()"
   ]
  },
  {
   "cell_type": "code",
   "execution_count": 28,
   "metadata": {},
   "outputs": [
    {
     "data": {
      "image/png": "[encoded data removed]",
      "text/plain": [
       "<Figure size 432x288 with 1 Axes>"
      ]
     },
     "metadata": {
      "needs_background": "light"
     },
     "output_type": "display_data"
    }
   ],
   "source": [
    "fig = plt.figure()\n",
    "ax=fig.add_axes([0,0,1,1])\n",
    "ax.bar(tarify, table.Pocet_pravidelnych_faktur_daily)\n",
    "plt.title(\"Počet pravidelných faktur denně\")\n",
    "plt.show()"
   ]
  },
  {
   "cell_type": "code",
   "execution_count": 29,
   "metadata": {},
   "outputs": [
    {
     "data": {
      "image/png": "[encoded data removed]",
      "text/plain": [
       "<Figure size 432x288 with 1 Axes>"
      ]
     },
     "metadata": {
      "needs_background": "light"
     },
     "output_type": "display_data"
    }
   ],
   "source": [
    "fig = plt.figure()\n",
    "ax=fig.add_axes([0,0,1,1])\n",
    "ax.bar(tarify, table.Pocet_prijatych_faktur_daily)\n",
    "plt.title(\"Počet přijatých faktur denně\")\n",
    "plt.show()"
   ]
  },
  {
   "cell_type": "code",
   "execution_count": 30,
   "metadata": {},
   "outputs": [
    {
     "data": {
      "image/png": "[encoded data removed]",
      "text/plain": [
       "<Figure size 432x288 with 1 Axes>"
      ]
     },
     "metadata": {
      "needs_background": "light"
     },
     "output_type": "display_data"
    }
   ],
   "source": [
    "fig = plt.figure()\n",
    "ax=fig.add_axes([0,0,1,1])\n",
    "ax.bar(tarify, table.Pocet_prodejek_daily)\n",
    "plt.title(\"Počet prodejek denně\")\n",
    "plt.show()"
   ]
  },
  {
   "cell_type": "code",
   "execution_count": 31,
   "metadata": {},
   "outputs": [
    {
     "data": {
      "image/png": "[encoded data removed]",
      "text/plain": [
       "<Figure size 432x288 with 1 Axes>"
      ]
     },
     "metadata": {
      "needs_background": "light"
     },
     "output_type": "display_data"
    }
   ],
   "source": [
    "fig = plt.figure()\n",
    "ax=fig.add_axes([0,0,1,1])\n",
    "ax.bar(tarify, table.Pocet_vydanych_faktur_daily)\n",
    "plt.title(\"Počet vydaných faktur denně\")\n",
    "plt.show()"
   ]
  },
  {
   "cell_type": "code",
   "execution_count": 32,
   "metadata": {},
   "outputs": [
    {
     "data": {
      "image/png": "[encoded data removed]",
      "text/plain": [
       "<Figure size 432x288 with 1 Axes>"
      ]
     },
     "metadata": {
      "needs_background": "light"
     },
     "output_type": "display_data"
    }
   ],
   "source": [
    "fig = plt.figure()\n",
    "ax=fig.add_axes([0,0,1,1])\n",
    "ax.bar(tarify, table.Pocet_zalohovych_faktur_daily)\n",
    "plt.title(\"Počet zálohových faktur denně\")\n",
    "plt.show()"
   ]
  },
  {
   "cell_type": "markdown",
   "metadata": {},
   "source": [
    "# Kdy uživatelé aktivují předplatné"
   ]
  },
  {
   "cell_type": "code",
   "execution_count": 33,
   "metadata": {},
   "outputs": [
    {
     "name": "stdout",
     "output_type": "stream",
     "text": [
      "     CompletId  AgendaId  SubscriptionType  IsTrial                DateFrom  \\\n",
      "2       111559    149785                 0        0 2016-06-23 18:15:43.747   \n",
      "3       111560    149785                 2        0 2016-06-23 18:17:43.180   \n",
      "64      114351    239593                 0        0 2016-07-03 09:39:06.780   \n",
      "108     114546    239516                 0        0 2016-07-06 06:44:02.780   \n",
      "236     114997    240332                 0        0 2016-07-11 09:52:02.423   \n",
      "\n",
      "                     DateTo  Pocet_vydanych_faktur  Pocet_zalohovych_faktur  \\\n",
      "2   2016-06-23 18:17:42.180                    0.0                      0.0   \n",
      "3   2016-06-23 18:22:15.730                    0.0                      0.0   \n",
      "64  2016-07-03 09:51:16.063                    0.0                      0.0   \n",
      "108 2016-07-06 08:37:55.207                    0.0                      0.0   \n",
      "236 2016-07-13 10:26:33.700                    0.0                      0.0   \n",
      "\n",
      "     Pocet_dobropisu  Pocet_prijatych_faktur  ...  Pocet_dobropisu_daily  \\\n",
      "2                0.0                     0.0  ...                    0.0   \n",
      "3                0.0                     0.0  ...                    0.0   \n",
      "64               0.0                     0.0  ...                    0.0   \n",
      "108              0.0                     0.0  ...                    0.0   \n",
      "236              0.0                     0.0  ...                    0.0   \n",
      "\n",
      "     Pocet_prijatych_faktur_daily  Pocet_kontaktu_daily  Pocet_prodejek_daily  \\\n",
      "2                             0.0                   0.0                   0.0   \n",
      "3                             0.0                   0.0                   0.0   \n",
      "64                            0.0                   0.0                   0.0   \n",
      "108                           0.0                   0.0                   0.0   \n",
      "236                           0.0                   0.0                   0.0   \n",
      "\n",
      "     Pocet_pravidelnych_faktur_daily Pocet_cenikovych_polozek_daily  year  \\\n",
      "2                                0.0                       0.000000  2016   \n",
      "3                                0.0                     317.006054  2016   \n",
      "64                               0.0                       0.000000  2016   \n",
      "108                              0.0                       0.000000  2016   \n",
      "236                              0.0                       0.000000  2016   \n",
      "\n",
      "     month  dayofweek  quarter  \n",
      "2        6          3        2  \n",
      "3        6          3        2  \n",
      "64       7          6        3  \n",
      "108      7          2        3  \n",
      "236      7          0        3  \n",
      "\n",
      "[5 rows x 30 columns]\n"
     ]
    },
    {
     "name": "stderr",
     "output_type": "stream",
     "text": [
      "C:\\Users\\Root\\Anaconda3\\lib\\site-packages\\ipykernel_launcher.py:1: SettingWithCopyWarning: \n",
      "A value is trying to be set on a copy of a slice from a DataFrame.\n",
      "Try using .loc[row_indexer,col_indexer] = value instead\n",
      "\n",
      "See the caveats in the documentation: http://pandas.pydata.org/pandas-docs/stable/user_guide/indexing.html#returning-a-view-versus-a-copy\n",
      "  \"\"\"Entry point for launching an IPython kernel.\n",
      "C:\\Users\\Root\\Anaconda3\\lib\\site-packages\\ipykernel_launcher.py:2: SettingWithCopyWarning: \n",
      "A value is trying to be set on a copy of a slice from a DataFrame.\n",
      "Try using .loc[row_indexer,col_indexer] = value instead\n",
      "\n",
      "See the caveats in the documentation: http://pandas.pydata.org/pandas-docs/stable/user_guide/indexing.html#returning-a-view-versus-a-copy\n",
      "  \n",
      "C:\\Users\\Root\\Anaconda3\\lib\\site-packages\\ipykernel_launcher.py:3: SettingWithCopyWarning: \n",
      "A value is trying to be set on a copy of a slice from a DataFrame.\n",
      "Try using .loc[row_indexer,col_indexer] = value instead\n",
      "\n",
      "See the caveats in the documentation: http://pandas.pydata.org/pandas-docs/stable/user_guide/indexing.html#returning-a-view-versus-a-copy\n",
      "  This is separate from the ipykernel package so we can avoid doing imports until\n",
      "C:\\Users\\Root\\Anaconda3\\lib\\site-packages\\ipykernel_launcher.py:4: SettingWithCopyWarning: \n",
      "A value is trying to be set on a copy of a slice from a DataFrame.\n",
      "Try using .loc[row_indexer,col_indexer] = value instead\n",
      "\n",
      "See the caveats in the documentation: http://pandas.pydata.org/pandas-docs/stable/user_guide/indexing.html#returning-a-view-versus-a-copy\n",
      "  after removing the cwd from sys.path.\n"
     ]
    }
   ],
   "source": [
    "tarif[\"year\"] = tarif['DateFrom'].dt.year\n",
    "tarif[\"month\"] = tarif['DateFrom'].dt.month\n",
    "tarif[\"dayofweek\"] = tarif['DateFrom'].dt.dayofweek\n",
    "tarif[\"quarter\"] = tarif['DateFrom'].dt.quarter\n",
    "print(tarif.head())"
   ]
  },
  {
   "cell_type": "code",
   "execution_count": 44,
   "metadata": {},
   "outputs": [
    {
     "name": "stdout",
     "output_type": "stream",
     "text": [
      "73928\n"
     ]
    }
   ],
   "source": [
    "print(tarif[tarif[\"year\"]==2019].AgendaId.count())"
   ]
  },
  {
   "cell_type": "markdown",
   "metadata": {},
   "source": [
    "The day of the week with Monday=0, Sunday=6"
   ]
  },
  {
   "cell_type": "code",
   "execution_count": 49,
   "metadata": {},
   "outputs": [
    {
     "name": "stdout",
     "output_type": "stream",
     "text": [
      "dayofweek\n",
      "0    46387\n",
      "1    41032\n",
      "2    40028\n",
      "3    39375\n",
      "4    31254\n",
      "5    16215\n",
      "6    21938\n",
      "Name: CompletId, dtype: int64\n"
     ]
    }
   ],
   "source": [
    "print(tarif.groupby(\"dayofweek\").CompletId.count())"
   ]
  },
  {
   "cell_type": "code",
   "execution_count": 50,
   "metadata": {},
   "outputs": [
    {
     "data": {
      "image/png": "[encoded data removed]",
      "text/plain": [
       "<Figure size 432x288 with 1 Axes>"
      ]
     },
     "metadata": {
      "needs_background": "light"
     },
     "output_type": "display_data"
    }
   ],
   "source": [
    "days = [\"pondělí\", \"úterý\", \"středa\", \"čtvrtek\", \"pátek\", \"sobota\", \"neděle\"]\n",
    "fig = plt.figure()\n",
    "ax=fig.add_axes([0,0,1,1])\n",
    "ax.bar(days, tarif.groupby(\"dayofweek\").CompletId.count())\n",
    "plt.title(\"Aktivace tarifů podle dnů v týdnu\")\n",
    "plt.show()"
   ]
  },
  {
   "cell_type": "code",
   "execution_count": 53,
   "metadata": {},
   "outputs": [
    {
     "data": {
      "image/png": "[encoded data removed]",
      "text/plain": [
       "<Figure size 432x288 with 1 Axes>"
      ]
     },
     "metadata": {
      "needs_background": "light"
     },
     "output_type": "display_data"
    }
   ],
   "source": [
    "months = [i for i in range (1, 13)]\n",
    "fig = plt.figure()\n",
    "ax=fig.add_axes([0,0,1,1])\n",
    "ax.bar(months, tarif.groupby(\"month\").CompletId.count())\n",
    "plt.title(\"Aktivace tarifů podle měsíců\")\n",
    "plt.show()"
   ]
  },
  {
   "cell_type": "code",
   "execution_count": 57,
   "metadata": {},
   "outputs": [
    {
     "data": {
      "image/png": "[encoded data removed]",
      "text/plain": [
       "<Figure size 432x288 with 1 Axes>"
      ]
     },
     "metadata": {
      "needs_background": "light"
     },
     "output_type": "display_data"
    }
   ],
   "source": [
    "kvartal = [str(i) for i in range (1, 5)]\n",
    "fig = plt.figure()\n",
    "ax=fig.add_axes([0,0,1,1])\n",
    "ax.bar(kvartal, tarif.groupby(\"quarter\").CompletId.count())\n",
    "plt.title(\"Aktivace tarifů podle kvartálů\")\n",
    "plt.show()"
   ]
  },
  {
   "cell_type": "code",
   "execution_count": null,
   "metadata": {},
   "outputs": [],
   "source": []
  }
 ],
 "metadata": {
  "kernelspec": {
   "display_name": "Python 3",
   "language": "python",
   "name": "python3"
  },
  "language_info": {
   "codemirror_mode": {
    "name": "ipython",
    "version": 3
   },
   "file_extension": ".py",
   "mimetype": "text/x-python",
   "name": "python",
   "nbconvert_exporter": "python",
   "pygments_lexer": "ipython3",
   "version": "3.7.4"
  },
  "toc": {
   "base_numbering": 1,
   "nav_menu": {},
   "number_sections": true,
   "sideBar": true,
   "skip_h1_title": false,
   "title_cell": "Table of Contents",
   "title_sidebar": "Contents",
   "toc_cell": false,
   "toc_position": {},
   "toc_section_display": true,
   "toc_window_display": false
  }
 },
 "nbformat": 4,
 "nbformat_minor": 2
}
